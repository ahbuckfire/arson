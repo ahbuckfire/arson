{
 "cells": [
  {
   "cell_type": "code",
   "execution_count": 3,
   "metadata": {},
   "outputs": [],
   "source": [
    "from elasticsearch import Elasticsearch"
   ]
  },
  {
   "cell_type": "code",
   "execution_count": 8,
   "metadata": {},
   "outputs": [
    {
     "data": {
      "text/html": [
       "<script>requirejs.config({paths: { 'plotly': ['https://cdn.plot.ly/plotly-latest.min']},});if(!window.Plotly) {{require(['plotly'],function(plotly) {window.Plotly=plotly;});}}</script>"
      ],
      "text/vnd.plotly.v1+html": [
       "<script>requirejs.config({paths: { 'plotly': ['https://cdn.plot.ly/plotly-latest.min']},});if(!window.Plotly) {{require(['plotly'],function(plotly) {window.Plotly=plotly;});}}</script>"
      ]
     },
     "metadata": {},
     "output_type": "display_data"
    }
   ],
   "source": [
    "import plotly as p\n",
    "import plotly.plotly as py\n",
    "import pandas as pd\n",
    "p.offline.init_notebook_mode(connected=True)\n",
    "\n",
    "import collections"
   ]
  },
  {
   "cell_type": "code",
   "execution_count": 5,
   "metadata": {},
   "outputs": [],
   "source": [
    "es = Elasticsearch([{'host': 'localhost', 'port': '9200'}])"
   ]
  },
  {
   "cell_type": "code",
   "execution_count": 280,
   "metadata": {},
   "outputs": [],
   "source": [
    "SCL = [[0.0, 'rgb(242,240,247)'],[0.2, 'rgb(218,218,235)'],[0.4, 'rgb(188,189,220)'], [0.6, 'rgb(158,154,200)'],[0.8, 'rgb(117,107,177)'],[1.0, 'rgb(84,39,143)']]\n",
    "\n",
    "STATE_CODES = {\"Mississippi\": \"MS\", \"Oklahoma\": \"OK\", \"Wyoming\": \"WY\", \"Minnesota\": \"MN\", \"Alaska\": \"AK\", \"Illinois\": \"IL\", \"Arkansas\": \"AR\", \"New Mexico\": \"NM\", \"Indiana\": \"IN\", \"Maryland\": \"MD\", \"Louisiana\": \"LA\", \"Texas\": \"TX\", \"Iowa\": \"IA\", \"Wisconsin\": \"WI\", \"Arizona\": \"AZ\", \"Michigan\": \"MI\", \"Kansas\": \"KS\", \"Utah\": \"UT\", \"Virginia\": \"VA\", \"Oregon\": \"OR\", \"Connecticut\": \"CT\", \"Tennessee\": \"TN\", \"New Hampshire\": \"NH\", \"Idaho\": \"ID\", \"West Virginia\": \"WV\", \"South Carolina\": \"SC\", \"California\": \"CA\", \"Vermont\": \"VT\", \"Georgia\": \"GA\", \"North Dakota\": \"ND\", \"Pennsylvania\": \"PA\", \"Florida\": \"FL\", \"Hawaii\": \"HI\", \"Kentucky\": \"KY\", \"Rhode Island\": \"RI\", \"Nebraska\": \"NE\", \"Missouri\": \"MO\", \"Ohio\": \"OH\", \"Alabama\": \"AL\", \"South Dakota\": \"SD\", \"Colorado\": \"CO\", \"New Jersey\": \"NJ\", \"Washington\": \"WA\", \"North Carolina\": \"NC\", \"New York\": \"NY\", \"Montana\": \"MT\", \"Nevada\": \"NV\", \"Delaware\": \"DE\", \"Maine\": \"MA\"}\n",
    "\n",
    "STATES = {\"AK\": \"Alaska\", \"AL\": \"Alabama\", \"AZ\": \"Arizona\", \"AR\": \"Arkansas\", \"CA\": \"California\", \"CO\": \"Colorado\", \"CT\": \"Connecticut\", \"DE\": \"Delaware\", \"FL\": \"Florida\", \"GA\": \"Georgia\", \"HI\": \"Hawaii\", \"ID\": \"Idaho\", \"IL\": \"Illinois\", \"IN\": \"Indiana\", \"IA\": \"Iowa\", \"KS\": \"Kansas\", \"KY\": \"Kentucky\", \"LA\": \"Louisiana\", \"ME\": \"Maine\", \"MD\": \"Maryland\", \"MA\": \"Maine\", \"MI\": \"Michigan\", \"MN\": \"Minnesota\", \"MS\": \"Mississippi\", \"MO\": \"Missouri\", \"MT\": \"Montana\", \"NE\": \"Nebraska\", \"NV\": \"Nevada\", \"NH\": \"New Hampshire\", \"NJ\": \"New Jersey\", \"NM\": \"New Mexico\", \"NY\": \"New York\", \"NC\": \"North Carolina\", \"ND\": \"North Dakota\", \"OH\": \"Ohio\", \"OK\": \"Oklahoma\", \"OR\": \"Oregon\", \"PA\": \"Pennsylvania\", \"RI\": \"Rhode Island\", \"SC\": \"South Carolina\", \"SD\": \"South Dakota\", \"TN\": \"Tennessee\", \"TX\": \"Texas\", \"UT\": \"Utah\", \"VT\": \"Vermont\", \"VA\": \"Virginia\", \"WA\": \"Washington\", \"WV\": \"West Virginia\", \"WI\": \"Wisconsin\", \"WY\": \"Wyoming\"}"
   ]
  },
  {
   "cell_type": "code",
   "execution_count": 172,
   "metadata": {},
   "outputs": [],
   "source": [
    "def get_layout():\n",
    "    return dict(\n",
    "        title = 'USA Arson Density (per 100,000 people)',\n",
    "        geo = dict(\n",
    "            scope='usa',\n",
    "            projection=dict( type='albers usa'),\n",
    "            showlakes=True,\n",
    "            lakecolor='rgb(255, 255, 255)'),\n",
    "             )"
   ]
  },
  {
   "cell_type": "code",
   "execution_count": 173,
   "metadata": {},
   "outputs": [],
   "source": [
    "def query_index(es, index_name, year, max_size=51):\n",
    "    res = es.search(index=index_name, q=\"year:\"+year, size=max_size)\n",
    "    return res[\"hits\"][\"hits\"]"
   ]
  },
  {
   "cell_type": "code",
   "execution_count": 174,
   "metadata": {},
   "outputs": [],
   "source": [
    "def build_density_series(hits):\n",
    "    d = {}\n",
    "    for row in hits:\n",
    "        source = row[\"_source\"]\n",
    "        d[STATE_CODES[source[\"state\"]]] = source[\"pop_density\"]\n",
    "    return pd.DataFrame(d.items(), columns=[\"state\", \"pop_density\"])"
   ]
  },
  {
   "cell_type": "code",
   "execution_count": 175,
   "metadata": {},
   "outputs": [],
   "source": [
    "def build_text_series(es, indices, year):\n",
    "    desc = collections.defaultdict(str)\n",
    "    #methods = query_index(es, \"method\", year)[\"hits\"][\"hits\"]\n",
    "    #motives = query_index(es, \"motives\", year)[\"hits\"][\"hits\"]\n",
    "    #ownership = query_index(es, \"ownership\", year)[\"hits\"][\"hits\"]\n",
    "    #counts = query_index(es, \"monthly_counts\", year)[\"hits\"][\"hits\"]\n",
    "\n",
    "    for index in indices:\n",
    "        response = query_index(es, index, year)\n",
    "        for row in response:\n",
    "            source = row[\"_source\"]\n",
    "            desc[source[\"state\"]] += index + \": \" + str(source[index]) + \"<br>\"\n",
    "    return pd.DataFrame(desc.items(), columns=[\"state\", \"text\"])"
   ]
  },
  {
   "cell_type": "code",
   "execution_count": 176,
   "metadata": {},
   "outputs": [],
   "source": [
    "def build_data_per_year(es, indices):\n",
    "    densities_per_year = []\n",
    "    for year in [\"2009\", \"2010\", \"2011\", \"2012\", \"2013\", \"2014\"]:\n",
    "        hits = query_index(es, \"arson_density\", year)\n",
    "        densities_per_year.append(\n",
    "            build_density_series(hits).merge(\n",
    "                build_text_series(es, indices, year), on=\"state\", how=\"outer\"))\n",
    "    return densities_per_year"
   ]
  },
  {
   "cell_type": "code",
   "execution_count": 177,
   "metadata": {},
   "outputs": [],
   "source": [
    "density_df = build_data_per_year(es, [\"method\", \"ownership\"])"
   ]
  },
  {
   "cell_type": "code",
   "execution_count": 229,
   "metadata": {},
   "outputs": [],
   "source": [
    "def get_density_data(df, scale=SCL):\n",
    "    return [dict(\n",
    "            type='choropleth',\n",
    "            colorscale = scale,\n",
    "            autocolorscale = False,\n",
    "            locations = df[\"state\"],\n",
    "            z = df[\"pop_density\"].astype(float),\n",
    "            locationmode = 'USA-states',\n",
    "            text = df[\"text\"],\n",
    "            colorbar = dict(\n",
    "                title = \"# arson / 100k people\")\n",
    "            )]"
   ]
  },
  {
   "cell_type": "code",
   "execution_count": 230,
   "metadata": {},
   "outputs": [],
   "source": [
    "def density_plotter(df):\n",
    "    d_2009 = df[0]\n",
    "    data = get_density_data(d_2009)\n",
    "    layout = get_layout()\n",
    "    fig = dict(data=data, layout=layout)\n",
    "    p.offline.iplot(fig, filename='d3-cloropleth-map')"
   ]
  },
  {
   "cell_type": "code",
   "execution_count": 196,
   "metadata": {},
   "outputs": [],
   "source": [
    "#density_plotter(density_df)"
   ]
  },
  {
   "cell_type": "code",
   "execution_count": 281,
   "metadata": {},
   "outputs": [],
   "source": [
    "def get_density_data_per_year(dfs, scale=SCL):\n",
    "    density_per_year = []\n",
    "    for df in dfs:\n",
    "        d = [dict(\n",
    "                type='choropleth',\n",
    "                colorscale = scale,\n",
    "                autocolorscale = False,\n",
    "                locations = df[\"state\"],\n",
    "                z = df[\"pop_density\"],\n",
    "                locationmode = 'USA-states',\n",
    "                text = df[\"text\"],\n",
    "                marker = dict(\n",
    "                    line = dict(\n",
    "                        color = 'rgb(255,255,255)',\n",
    "                        width = 2\n",
    "                    )),\n",
    "                colorbar = dict(title = \"Arson Density in the USA\"),\n",
    "                name=\"\"\n",
    "                )]\n",
    "        density_per_year.extend(d)\n",
    "    return density_per_year"
   ]
  },
  {
   "cell_type": "code",
   "execution_count": 273,
   "metadata": {},
   "outputs": [],
   "source": [
    "def set_steps(dfs, years):\n",
    "    steps = []\n",
    "    for idx, year in enumerate(years):\n",
    "        step = dict(method = \"restyle\",\n",
    "                    args = [\"visible\", [False]*len(years)],\n",
    "                    label = year) \n",
    "        step['args'][1][idx] = True\n",
    "        steps.append(step)\n",
    "    return steps"
   ]
  },
  {
   "cell_type": "code",
   "execution_count": 288,
   "metadata": {},
   "outputs": [],
   "source": [
    "def set_sliders(steps):\n",
    "    return [dict(active = 10,\n",
    "                currentvalue = {\"prefix\": \"Year: \"},\n",
    "                pad = {\"t\": 50},\n",
    "                steps = steps)]\n"
   ]
  },
  {
   "cell_type": "code",
   "execution_count": 283,
   "metadata": {},
   "outputs": [],
   "source": [
    "def set_layout(sliders):\n",
    "    return dict(\n",
    "        title = 'USA Arson Density',\n",
    "        geo = dict(\n",
    "            scope='usa',\n",
    "            projection=dict(type='albers usa'),\n",
    "            showlakes=True,\n",
    "            lakecolor='rgb(255, 255, 255)'),\n",
    "        sliders=sliders\n",
    "    )"
   ]
  },
  {
   "cell_type": "code",
   "execution_count": 284,
   "metadata": {},
   "outputs": [],
   "source": [
    "def density_plotter_with_slider(df):\n",
    "    d_2009 = df[0]\n",
    "    data = get_density_data_per_year(d_2009)\n",
    "    layout = get_layout()\n",
    "    frames = []\n",
    "    fig = dict(data=data, layout=layout, frames=frames)\n",
    "    p.offline.iplot(fig, filename='d3-cloropleth-map')"
   ]
  },
  {
   "cell_type": "code",
   "execution_count": 285,
   "metadata": {},
   "outputs": [],
   "source": [
    "steps = set_steps(density_df, [\"2009\", \"2010\", \"2011\", \"2012\", \"2013\", \"2014\"])\n",
    "sliders = set_sliders(steps)\n",
    "data = get_density_data_per_year(density_df)\n",
    "layout=set_layout(sliders)"
   ]
  },
  {
   "cell_type": "code",
   "execution_count": 286,
   "metadata": {},
   "outputs": [],
   "source": [
    "fig = dict(data=data, layout=layout)"
   ]
  },
  {
   "cell_type": "code",
   "execution_count": 287,
   "metadata": {},
   "outputs": [
    {
     "data": {
      "application/vnd.plotly.v1+json": {
       "data": [
        {
         "autocolorscale": false,
         "colorbar": {
          "title": "Arson Density in the USA"
         },
         "colorscale": [
          [
           0,
           "rgb(242,240,247)"
          ],
          [
           0.2,
           "rgb(218,218,235)"
          ],
          [
           0.4,
           "rgb(188,189,220)"
          ],
          [
           0.6,
           "rgb(158,154,200)"
          ],
          [
           0.8,
           "rgb(117,107,177)"
          ],
          [
           1,
           "rgb(84,39,143)"
          ]
         ],
         "locationmode": "USA-states",
         "locations": [
          "WA",
          "DE",
          "WI",
          "WV",
          "HI",
          "FL",
          "AK",
          "NH",
          "NJ",
          "NM",
          "TX",
          "LA",
          "NC",
          "ND",
          "NE",
          "TN",
          "NY",
          "PA",
          "WY",
          "RI",
          "NV",
          "VA",
          "CO",
          "CA",
          "AL",
          "AR",
          "VT",
          "IL",
          "GA",
          "IN",
          "IA",
          "OK",
          "AZ",
          "ID",
          "CT",
          "MD",
          "MA",
          "OH",
          "UT",
          "MO",
          "MN",
          "MI",
          "KS",
          "MT",
          "MS",
          "SC",
          "KY",
          "OR",
          "SD",
          "overall",
          "ME"
         ],
         "marker": {
          "line": {
           "color": "rgb(255,255,255)",
           "width": 2
          }
         },
         "name": "",
         "text": [
          "method: Open flame source<br>method: Open flame source<br>",
          "method: Wick or fuse<br>ownership: private<br>ownership: private<br>ownership: private<br>",
          "ownership: private<br>ownership: private<br>",
          "method: Wick or fuse<br>",
          "method: Open flame source<br>method: Open flame source<br>ownership: private<br>",
          "ownership: private<br>",
          "method: Open flame source<br>",
          "method: Open flame source<br>",
          "method: Open flame source<br>ownership: private<br>",
          "method: Open flame source<br>",
          "method: Open flame source<br>method: Open flame source<br>",
          "method: Open flame source<br>ownership: private<br>ownership: private<br>",
          "method: Cigarette and matchbook<br>",
          "method: Open flame source<br>ownership: private<br>",
          "method: Open flame source<br>",
          "nan",
          "method: Open flame source<br>",
          "ownership: private<br>",
          "ownership: private<br>",
          "method: None<br>ownership: private<br>",
          "ownership: private<br>ownership: private<br>ownership: private<br>",
          "method: Open flame source<br>ownership: private<br>ownership: private<br>",
          "method: Open flame source<br>ownership: private<br>",
          "method: Open flame source<br>method: Open flame source<br>ownership: private<br>",
          "method: Open flame source<br>method: Open flame source<br>ownership: private<br>ownership: private<br>ownership: private<br>",
          "ownership: private<br>ownership: private<br>",
          "ownership: private<br>",
          "nan",
          "method: Open flame source<br>ownership: private<br>",
          "method: Open flame source<br>ownership: private<br>",
          "ownership: private<br>",
          "method: Open flame source<br>ownership: private<br>",
          "method: Open flame source<br>ownership: private<br>ownership: private<br>",
          "method: Open flame source<br>ownership: private<br>",
          "method: Wick or fuse<br>method: Wick or fuse<br>method: Wick or fuse<br>ownership: private<br>",
          "method: Wick or fuse<br>method: Wick or fuse<br>ownership: private<br>ownership: private<br>",
          "method: Open flame source<br>ownership: private<br>",
          "nan",
          "method: Open flame source<br>ownership: private<br>",
          "method: Wick or fuse<br>ownership: private<br>",
          "method: Open flame source<br>method: Open flame source<br>ownership: private<br>",
          "method: Open flame source<br>",
          "ownership: private<br>",
          "nan",
          "method: Open flame source<br>method: Open flame source<br>ownership: private<br>",
          "method: Open flame source<br>method: Open flame source<br>method: Open flame source<br>",
          "method: Open flame source<br>ownership: private<br>ownership: private<br>ownership: private<br>",
          "method: None<br>method: None<br>ownership: private<br>",
          "method: None<br>method: None<br>ownership: private<br>ownership: private<br>",
          "ownership: private<br>",
          "method: Open flame source<br>ownership: private<br>"
         ],
         "type": "choropleth",
         "uid": "6464e08a-d02a-11e8-99a7-784f439698c9",
         "z": [
          79.2418651001441,
          19.11722862427088,
          8.751576997270668,
          10.138514761515708,
          100.6000071857148,
          21.44699739648733,
          87.9533343137049,
          23.619655198602565,
          5.793013580186894,
          51.05087796369963,
          11.378020959645742,
          41.12327940661022,
          9.19132334897982,
          16.752703411917842,
          60.76648837458387,
          6.702452940441626,
          20.319311565439854,
          1.7465101069831845,
          9.036528838930074,
          3.5132063325069387,
          100.93247846582632,
          26.130170365720208,
          17.650453275922146,
          23.19993549024866,
          22.58869825364914,
          10.302090845274575,
          3.8348337120231624,
          11.143821806006232,
          10.306098327385104,
          10.539244123562469,
          18.45766686566851,
          15.799851523954198,
          8.787261187057535,
          19.033529567537837,
          11.03299255817669,
          21.97612722242657,
          28.322466344473504,
          14.168992490173999,
          5.657127620475198,
          8.55615900845959,
          9.377275472154293,
          22.092329941961566,
          15.218287974089028,
          3.129710340260089,
          4.342795353006982,
          8.801005385438737,
          2.41493228529872,
          0.13030765898902627,
          3.3079033161118168,
          null,
          null
         ]
        },
        {
         "autocolorscale": false,
         "colorbar": {
          "title": "Arson Density in the USA"
         },
         "colorscale": [
          [
           0,
           "rgb(242,240,247)"
          ],
          [
           0.2,
           "rgb(218,218,235)"
          ],
          [
           0.4,
           "rgb(188,189,220)"
          ],
          [
           0.6,
           "rgb(158,154,200)"
          ],
          [
           0.8,
           "rgb(117,107,177)"
          ],
          [
           1,
           "rgb(84,39,143)"
          ]
         ],
         "locationmode": "USA-states",
         "locations": [
          "WA",
          "DE",
          "WI",
          "WV",
          "HI",
          "FL",
          "WY",
          "NH",
          "NJ",
          "NM",
          "TX",
          "LA",
          "NC",
          "ND",
          "NE",
          "TN",
          "NY",
          "PA",
          "RI",
          "NV",
          "VA",
          "CO",
          "AK",
          "AL",
          "AR",
          "VT",
          "IL",
          "GA",
          "IN",
          "IA",
          "OK",
          "AZ",
          "CA",
          "ID",
          "CT",
          "MD",
          "MA",
          "OH",
          "UT",
          "MO",
          "MN",
          "MI",
          "KS",
          "MT",
          "MS",
          "SC",
          "KY",
          "OR",
          "SD",
          "overall",
          "ME"
         ],
         "marker": {
          "line": {
           "color": "rgb(255,255,255)",
           "width": 2
          }
         },
         "name": "",
         "text": [
          "method: Open flame source<br>ownership: private<br>",
          "method: None<br>ownership: private<br>",
          "method: Cigarette and matchbook<br>ownership: private<br>",
          "method: Open flame source<br>ownership: private<br>",
          "method: Open flame source<br>ownership: private<br>",
          "method: Open flame source<br>ownership: private<br>",
          "method: Open flame source<br>ownership: private<br>",
          "method: Open flame source<br>ownership: private<br>",
          "method: Open flame source<br>ownership: private<br>",
          "method: Open flame source<br>ownership: private<br>",
          "method: Open flame source<br>ownership: private<br>",
          "method: Open flame source<br>ownership: private<br>",
          "method: Open flame source<br>ownership: private<br>",
          "method: Mechanical device<br>ownership: private<br>",
          "method: Wick or fuse<br>ownership: private<br>",
          "method: Open flame source<br>ownership: private<br>",
          "method: Cigarette and matchbook<br>ownership: private<br>",
          "method: Open flame source<br>ownership: private<br>",
          "method: Electronic component<br>ownership: private<br>",
          "method: Open flame source<br>ownership: private<br>",
          "method: Open flame source<br>ownership: private<br>",
          "method: Open flame source<br>ownership: private<br>",
          "method: Open flame source<br>ownership: private<br>",
          "method: Open flame source<br>ownership: private<br>",
          "method: Open flame source<br>ownership: private<br>",
          "method: None<br>ownership: private<br>",
          "method: Open flame source<br>ownership: private<br>",
          "method: Open flame source<br>ownership: private<br>",
          "method: Open flame source<br>ownership: private<br>",
          "method: Wick or fuse<br>ownership: private<br>",
          "method: Open flame source<br>ownership: private<br>",
          "method: Open flame source<br>ownership: private<br>",
          "method: Open flame source<br>ownership: private<br>",
          "method: Wick or fuse<br>ownership: private<br>",
          "method: Open flame source<br>ownership: private<br>",
          "method: Wick or fuse<br>ownership: private<br>",
          "method: Open flame source<br>ownership: private<br>",
          "method: Open flame source<br>ownership: private<br>",
          "method: Mechanical device<br>ownership: private<br>",
          "method: Wick or fuse<br>ownership: private<br>",
          "method: Wick or fuse<br>ownership: private<br>",
          "method: Open flame source<br>ownership: private<br>",
          "method: Open flame source<br>ownership: private<br>",
          "method: Open flame source<br>ownership: private<br>",
          "method: Chemical component<br>ownership: private<br>",
          "method: Open flame source<br>ownership: private<br>",
          "method: Open flame source<br>ownership: private<br>",
          "method: Open flame source<br>ownership: private<br>",
          "method: Open flame source<br>ownership: private<br>",
          "method: Open flame source<br>ownership: private<br>",
          "method: Open flame source<br>ownership: private<br>"
         ],
         "type": "choropleth",
         "uid": "6464e363-d02a-11e8-8184-784f439698c9",
         "z": [
          70.35645192249784,
          27.342082799829278,
          6.238573963917846,
          10.354227841547957,
          100.96662528770355,
          28.92320208022079,
          10.985584078699306,
          37.44209007366902,
          8.269242914462861,
          59.28489053848989,
          9.508095509453266,
          49.79239234732955,
          11.238481731252598,
          17.04921143690754,
          53.44390794095596,
          8.527534022815402,
          19.226820048353055,
          16.418768438170748,
          15.097292077529817,
          109.81216865343568,
          30.391743215065134,
          22.42459383652511,
          95.37614755992522,
          54.141829024241375,
          10.849710292199468,
          4.953326878029918,
          11.657792623054737,
          13.528684517666361,
          13.944467736584844,
          21.96560710479201,
          18.193768421523014,
          7.601058966424546,
          21.51753832074795,
          19.415473304679065,
          16.47965977044113,
          36.41955674911573,
          84.28946765815385,
          15.32157720038387,
          4.9364744204146636,
          11.625034754183886,
          7.381309206996954,
          23.25668280324735,
          16.862562766691752,
          4.240252719062056,
          4.881436637100871,
          17.127446754995972,
          3.9328897217722014,
          15.715103674076568,
          3.430418253745588,
          null,
          null
         ]
        },
        {
         "autocolorscale": false,
         "colorbar": {
          "title": "Arson Density in the USA"
         },
         "colorscale": [
          [
           0,
           "rgb(242,240,247)"
          ],
          [
           0.2,
           "rgb(218,218,235)"
          ],
          [
           0.4,
           "rgb(188,189,220)"
          ],
          [
           0.6,
           "rgb(158,154,200)"
          ],
          [
           0.8,
           "rgb(117,107,177)"
          ],
          [
           1,
           "rgb(84,39,143)"
          ]
         ],
         "locationmode": "USA-states",
         "locations": [],
         "marker": {
          "line": {
           "color": "rgb(255,255,255)",
           "width": 2
          }
         },
         "name": "",
         "text": [],
         "type": "choropleth",
         "uid": "6464e530-d02a-11e8-bd5f-784f439698c9",
         "z": []
        },
        {
         "autocolorscale": false,
         "colorbar": {
          "title": "Arson Density in the USA"
         },
         "colorscale": [
          [
           0,
           "rgb(242,240,247)"
          ],
          [
           0.2,
           "rgb(218,218,235)"
          ],
          [
           0.4,
           "rgb(188,189,220)"
          ],
          [
           0.6,
           "rgb(158,154,200)"
          ],
          [
           0.8,
           "rgb(117,107,177)"
          ],
          [
           1,
           "rgb(84,39,143)"
          ]
         ],
         "locationmode": "USA-states",
         "locations": [],
         "marker": {
          "line": {
           "color": "rgb(255,255,255)",
           "width": 2
          }
         },
         "name": "",
         "text": [],
         "type": "choropleth",
         "uid": "6464e6b5-d02a-11e8-917f-784f439698c9",
         "z": []
        },
        {
         "autocolorscale": false,
         "colorbar": {
          "title": "Arson Density in the USA"
         },
         "colorscale": [
          [
           0,
           "rgb(242,240,247)"
          ],
          [
           0.2,
           "rgb(218,218,235)"
          ],
          [
           0.4,
           "rgb(188,189,220)"
          ],
          [
           0.6,
           "rgb(158,154,200)"
          ],
          [
           0.8,
           "rgb(117,107,177)"
          ],
          [
           1,
           "rgb(84,39,143)"
          ]
         ],
         "locationmode": "USA-states",
         "locations": [],
         "marker": {
          "line": {
           "color": "rgb(255,255,255)",
           "width": 2
          }
         },
         "name": "",
         "text": [],
         "type": "choropleth",
         "uid": "6464e84f-d02a-11e8-a5b1-784f439698c9",
         "z": []
        },
        {
         "autocolorscale": false,
         "colorbar": {
          "title": "Arson Density in the USA"
         },
         "colorscale": [
          [
           0,
           "rgb(242,240,247)"
          ],
          [
           0.2,
           "rgb(218,218,235)"
          ],
          [
           0.4,
           "rgb(188,189,220)"
          ],
          [
           0.6,
           "rgb(158,154,200)"
          ],
          [
           0.8,
           "rgb(117,107,177)"
          ],
          [
           1,
           "rgb(84,39,143)"
          ]
         ],
         "locationmode": "USA-states",
         "locations": [],
         "marker": {
          "line": {
           "color": "rgb(255,255,255)",
           "width": 2
          }
         },
         "name": "",
         "text": [],
         "type": "choropleth",
         "uid": "6464e9b8-d02a-11e8-818f-784f439698c9",
         "z": []
        }
       ],
       "layout": {
        "geo": {
         "lakecolor": "rgb(255, 255, 255)",
         "projection": {
          "type": "albers usa"
         },
         "scope": "usa",
         "showlakes": true
        },
        "sliders": [
         {
          "active": 6,
          "currentvalue": {
           "prefix": "Year: "
          },
          "pad": {
           "t": 50
          },
          "steps": [
           {
            "args": [
             "visible",
             [
              true,
              false,
              false,
              false,
              false,
              false
             ]
            ],
            "label": "2009",
            "method": "restyle"
           },
           {
            "args": [
             "visible",
             [
              false,
              true,
              false,
              false,
              false,
              false
             ]
            ],
            "label": "2010",
            "method": "restyle"
           },
           {
            "args": [
             "visible",
             [
              false,
              false,
              true,
              false,
              false,
              false
             ]
            ],
            "label": "2011",
            "method": "restyle"
           },
           {
            "args": [
             "visible",
             [
              false,
              false,
              false,
              true,
              false,
              false
             ]
            ],
            "label": "2012",
            "method": "restyle"
           },
           {
            "args": [
             "visible",
             [
              false,
              false,
              false,
              false,
              true,
              false
             ]
            ],
            "label": "2013",
            "method": "restyle"
           },
           {
            "args": [
             "visible",
             [
              false,
              false,
              false,
              false,
              false,
              true
             ]
            ],
            "label": "2014",
            "method": "restyle"
           }
          ]
         }
        ],
        "title": "USA Arson Density"
       }
      },
      "text/html": [
       "<div id=\"340aa1e4-3f28-494e-a1b0-e5da31b9965a\" style=\"height: 525px; width: 100%;\" class=\"plotly-graph-div\"></div><script type=\"text/javascript\">require([\"plotly\"], function(Plotly) { window.PLOTLYENV=window.PLOTLYENV || {};window.PLOTLYENV.BASE_URL=\"https://plot.ly\";Plotly.newPlot(\"340aa1e4-3f28-494e-a1b0-e5da31b9965a\", [{\"autocolorscale\": false, \"name\": \"\", \"colorscale\": [[0.0, \"rgb(242,240,247)\"], [0.2, \"rgb(218,218,235)\"], [0.4, \"rgb(188,189,220)\"], [0.6, \"rgb(158,154,200)\"], [0.8, \"rgb(117,107,177)\"], [1.0, \"rgb(84,39,143)\"]], \"text\": [\"method: Open flame source<br>method: Open flame source<br>\", \"method: Wick or fuse<br>ownership: private<br>ownership: private<br>ownership: private<br>\", \"ownership: private<br>ownership: private<br>\", \"method: Wick or fuse<br>\", \"method: Open flame source<br>method: Open flame source<br>ownership: private<br>\", \"ownership: private<br>\", \"method: Open flame source<br>\", \"method: Open flame source<br>\", \"method: Open flame source<br>ownership: private<br>\", \"method: Open flame source<br>\", \"method: Open flame source<br>method: Open flame source<br>\", \"method: Open flame source<br>ownership: private<br>ownership: private<br>\", \"method: Cigarette and matchbook<br>\", \"method: Open flame source<br>ownership: private<br>\", \"method: Open flame source<br>\", \"nan\", \"method: Open flame source<br>\", \"ownership: private<br>\", \"ownership: private<br>\", \"method: None<br>ownership: private<br>\", \"ownership: private<br>ownership: private<br>ownership: private<br>\", \"method: Open flame source<br>ownership: private<br>ownership: private<br>\", \"method: Open flame source<br>ownership: private<br>\", \"method: Open flame source<br>method: Open flame source<br>ownership: private<br>\", \"method: Open flame source<br>method: Open flame source<br>ownership: private<br>ownership: private<br>ownership: private<br>\", \"ownership: private<br>ownership: private<br>\", \"ownership: private<br>\", \"nan\", \"method: Open flame source<br>ownership: private<br>\", \"method: Open flame source<br>ownership: private<br>\", \"ownership: private<br>\", \"method: Open flame source<br>ownership: private<br>\", \"method: Open flame source<br>ownership: private<br>ownership: private<br>\", \"method: Open flame source<br>ownership: private<br>\", \"method: Wick or fuse<br>method: Wick or fuse<br>method: Wick or fuse<br>ownership: private<br>\", \"method: Wick or fuse<br>method: Wick or fuse<br>ownership: private<br>ownership: private<br>\", \"method: Open flame source<br>ownership: private<br>\", \"nan\", \"method: Open flame source<br>ownership: private<br>\", \"method: Wick or fuse<br>ownership: private<br>\", \"method: Open flame source<br>method: Open flame source<br>ownership: private<br>\", \"method: Open flame source<br>\", \"ownership: private<br>\", \"nan\", \"method: Open flame source<br>method: Open flame source<br>ownership: private<br>\", \"method: Open flame source<br>method: Open flame source<br>method: Open flame source<br>\", \"method: Open flame source<br>ownership: private<br>ownership: private<br>ownership: private<br>\", \"method: None<br>method: None<br>ownership: private<br>\", \"method: None<br>method: None<br>ownership: private<br>ownership: private<br>\", \"ownership: private<br>\", \"method: Open flame source<br>ownership: private<br>\"], \"locations\": [\"WA\", \"DE\", \"WI\", \"WV\", \"HI\", \"FL\", \"AK\", \"NH\", \"NJ\", \"NM\", \"TX\", \"LA\", \"NC\", \"ND\", \"NE\", \"TN\", \"NY\", \"PA\", \"WY\", \"RI\", \"NV\", \"VA\", \"CO\", \"CA\", \"AL\", \"AR\", \"VT\", \"IL\", \"GA\", \"IN\", \"IA\", \"OK\", \"AZ\", \"ID\", \"CT\", \"MD\", \"MA\", \"OH\", \"UT\", \"MO\", \"MN\", \"MI\", \"KS\", \"MT\", \"MS\", \"SC\", \"KY\", \"OR\", \"SD\", \"overall\", \"ME\"], \"colorbar\": {\"title\": \"Arson Density in the USA\"}, \"marker\": {\"line\": {\"color\": \"rgb(255,255,255)\", \"width\": 2}}, \"locationmode\": \"USA-states\", \"z\": [79.2418651001441, 19.11722862427088, 8.751576997270668, 10.138514761515708, 100.6000071857148, 21.44699739648733, 87.9533343137049, 23.619655198602565, 5.793013580186894, 51.05087796369963, 11.378020959645742, 41.12327940661022, 9.19132334897982, 16.752703411917842, 60.76648837458387, 6.702452940441626, 20.319311565439854, 1.7465101069831845, 9.036528838930074, 3.5132063325069387, 100.93247846582632, 26.130170365720208, 17.650453275922146, 23.19993549024866, 22.58869825364914, 10.302090845274575, 3.8348337120231624, 11.143821806006232, 10.306098327385104, 10.539244123562469, 18.45766686566851, 15.799851523954198, 8.787261187057535, 19.033529567537837, 11.03299255817669, 21.97612722242657, 28.322466344473504, 14.168992490173999, 5.657127620475198, 8.55615900845959, 9.377275472154293, 22.092329941961566, 15.218287974089028, 3.129710340260089, 4.342795353006982, 8.801005385438737, 2.41493228529872, 0.13030765898902627, 3.3079033161118168, null, null], \"type\": \"choropleth\", \"uid\": \"646d01c0-d02a-11e8-9abb-784f439698c9\"}, {\"autocolorscale\": false, \"name\": \"\", \"colorscale\": [[0.0, \"rgb(242,240,247)\"], [0.2, \"rgb(218,218,235)\"], [0.4, \"rgb(188,189,220)\"], [0.6, \"rgb(158,154,200)\"], [0.8, \"rgb(117,107,177)\"], [1.0, \"rgb(84,39,143)\"]], \"text\": [\"method: Open flame source<br>ownership: private<br>\", \"method: None<br>ownership: private<br>\", \"method: Cigarette and matchbook<br>ownership: private<br>\", \"method: Open flame source<br>ownership: private<br>\", \"method: Open flame source<br>ownership: private<br>\", \"method: Open flame source<br>ownership: private<br>\", \"method: Open flame source<br>ownership: private<br>\", \"method: Open flame source<br>ownership: private<br>\", \"method: Open flame source<br>ownership: private<br>\", \"method: Open flame source<br>ownership: private<br>\", \"method: Open flame source<br>ownership: private<br>\", \"method: Open flame source<br>ownership: private<br>\", \"method: Open flame source<br>ownership: private<br>\", \"method: Mechanical device<br>ownership: private<br>\", \"method: Wick or fuse<br>ownership: private<br>\", \"method: Open flame source<br>ownership: private<br>\", \"method: Cigarette and matchbook<br>ownership: private<br>\", \"method: Open flame source<br>ownership: private<br>\", \"method: Electronic component<br>ownership: private<br>\", \"method: Open flame source<br>ownership: private<br>\", \"method: Open flame source<br>ownership: private<br>\", \"method: Open flame source<br>ownership: private<br>\", \"method: Open flame source<br>ownership: private<br>\", \"method: Open flame source<br>ownership: private<br>\", \"method: Open flame source<br>ownership: private<br>\", \"method: None<br>ownership: private<br>\", \"method: Open flame source<br>ownership: private<br>\", \"method: Open flame source<br>ownership: private<br>\", \"method: Open flame source<br>ownership: private<br>\", \"method: Wick or fuse<br>ownership: private<br>\", \"method: Open flame source<br>ownership: private<br>\", \"method: Open flame source<br>ownership: private<br>\", \"method: Open flame source<br>ownership: private<br>\", \"method: Wick or fuse<br>ownership: private<br>\", \"method: Open flame source<br>ownership: private<br>\", \"method: Wick or fuse<br>ownership: private<br>\", \"method: Open flame source<br>ownership: private<br>\", \"method: Open flame source<br>ownership: private<br>\", \"method: Mechanical device<br>ownership: private<br>\", \"method: Wick or fuse<br>ownership: private<br>\", \"method: Wick or fuse<br>ownership: private<br>\", \"method: Open flame source<br>ownership: private<br>\", \"method: Open flame source<br>ownership: private<br>\", \"method: Open flame source<br>ownership: private<br>\", \"method: Chemical component<br>ownership: private<br>\", \"method: Open flame source<br>ownership: private<br>\", \"method: Open flame source<br>ownership: private<br>\", \"method: Open flame source<br>ownership: private<br>\", \"method: Open flame source<br>ownership: private<br>\", \"method: Open flame source<br>ownership: private<br>\", \"method: Open flame source<br>ownership: private<br>\"], \"locations\": [\"WA\", \"DE\", \"WI\", \"WV\", \"HI\", \"FL\", \"WY\", \"NH\", \"NJ\", \"NM\", \"TX\", \"LA\", \"NC\", \"ND\", \"NE\", \"TN\", \"NY\", \"PA\", \"RI\", \"NV\", \"VA\", \"CO\", \"AK\", \"AL\", \"AR\", \"VT\", \"IL\", \"GA\", \"IN\", \"IA\", \"OK\", \"AZ\", \"CA\", \"ID\", \"CT\", \"MD\", \"MA\", \"OH\", \"UT\", \"MO\", \"MN\", \"MI\", \"KS\", \"MT\", \"MS\", \"SC\", \"KY\", \"OR\", \"SD\", \"overall\", \"ME\"], \"colorbar\": {\"title\": \"Arson Density in the USA\"}, \"marker\": {\"line\": {\"color\": \"rgb(255,255,255)\", \"width\": 2}}, \"locationmode\": \"USA-states\", \"z\": [70.35645192249784, 27.342082799829278, 6.238573963917846, 10.354227841547957, 100.96662528770355, 28.92320208022079, 10.985584078699306, 37.44209007366902, 8.269242914462861, 59.28489053848989, 9.508095509453266, 49.79239234732955, 11.238481731252598, 17.04921143690754, 53.44390794095596, 8.527534022815402, 19.226820048353055, 16.418768438170748, 15.097292077529817, 109.81216865343568, 30.391743215065134, 22.42459383652511, 95.37614755992522, 54.141829024241375, 10.849710292199468, 4.953326878029918, 11.657792623054737, 13.528684517666361, 13.944467736584844, 21.96560710479201, 18.193768421523014, 7.601058966424546, 21.51753832074795, 19.415473304679065, 16.47965977044113, 36.41955674911573, 84.28946765815385, 15.32157720038387, 4.9364744204146636, 11.625034754183886, 7.381309206996954, 23.25668280324735, 16.862562766691752, 4.240252719062056, 4.881436637100871, 17.127446754995972, 3.9328897217722014, 15.715103674076568, 3.430418253745588, null, null], \"type\": \"choropleth\", \"uid\": \"646d03b5-d02a-11e8-8f57-784f439698c9\"}, {\"autocolorscale\": false, \"name\": \"\", \"colorscale\": [[0.0, \"rgb(242,240,247)\"], [0.2, \"rgb(218,218,235)\"], [0.4, \"rgb(188,189,220)\"], [0.6, \"rgb(158,154,200)\"], [0.8, \"rgb(117,107,177)\"], [1.0, \"rgb(84,39,143)\"]], \"text\": [], \"locations\": [], \"colorbar\": {\"title\": \"Arson Density in the USA\"}, \"marker\": {\"line\": {\"color\": \"rgb(255,255,255)\", \"width\": 2}}, \"locationmode\": \"USA-states\", \"z\": [], \"type\": \"choropleth\", \"uid\": \"646d04e1-d02a-11e8-bf87-784f439698c9\"}, {\"autocolorscale\": false, \"name\": \"\", \"colorscale\": [[0.0, \"rgb(242,240,247)\"], [0.2, \"rgb(218,218,235)\"], [0.4, \"rgb(188,189,220)\"], [0.6, \"rgb(158,154,200)\"], [0.8, \"rgb(117,107,177)\"], [1.0, \"rgb(84,39,143)\"]], \"text\": [], \"locations\": [], \"colorbar\": {\"title\": \"Arson Density in the USA\"}, \"marker\": {\"line\": {\"color\": \"rgb(255,255,255)\", \"width\": 2}}, \"locationmode\": \"USA-states\", \"z\": [], \"type\": \"choropleth\", \"uid\": \"646d05cf-d02a-11e8-ba77-784f439698c9\"}, {\"autocolorscale\": false, \"name\": \"\", \"colorscale\": [[0.0, \"rgb(242,240,247)\"], [0.2, \"rgb(218,218,235)\"], [0.4, \"rgb(188,189,220)\"], [0.6, \"rgb(158,154,200)\"], [0.8, \"rgb(117,107,177)\"], [1.0, \"rgb(84,39,143)\"]], \"text\": [], \"locations\": [], \"colorbar\": {\"title\": \"Arson Density in the USA\"}, \"marker\": {\"line\": {\"color\": \"rgb(255,255,255)\", \"width\": 2}}, \"locationmode\": \"USA-states\", \"z\": [], \"type\": \"choropleth\", \"uid\": \"646d06c0-d02a-11e8-bf8b-784f439698c9\"}, {\"autocolorscale\": false, \"name\": \"\", \"colorscale\": [[0.0, \"rgb(242,240,247)\"], [0.2, \"rgb(218,218,235)\"], [0.4, \"rgb(188,189,220)\"], [0.6, \"rgb(158,154,200)\"], [0.8, \"rgb(117,107,177)\"], [1.0, \"rgb(84,39,143)\"]], \"text\": [], \"locations\": [], \"colorbar\": {\"title\": \"Arson Density in the USA\"}, \"marker\": {\"line\": {\"color\": \"rgb(255,255,255)\", \"width\": 2}}, \"locationmode\": \"USA-states\", \"z\": [], \"type\": \"choropleth\", \"uid\": \"646d079c-d02a-11e8-a6a4-784f439698c9\"}], {\"sliders\": [{\"active\": 6, \"steps\": [{\"args\": [\"visible\", [true, false, false, false, false, false]], \"method\": \"restyle\", \"label\": \"2009\"}, {\"args\": [\"visible\", [false, true, false, false, false, false]], \"method\": \"restyle\", \"label\": \"2010\"}, {\"args\": [\"visible\", [false, false, true, false, false, false]], \"method\": \"restyle\", \"label\": \"2011\"}, {\"args\": [\"visible\", [false, false, false, true, false, false]], \"method\": \"restyle\", \"label\": \"2012\"}, {\"args\": [\"visible\", [false, false, false, false, true, false]], \"method\": \"restyle\", \"label\": \"2013\"}, {\"args\": [\"visible\", [false, false, false, false, false, true]], \"method\": \"restyle\", \"label\": \"2014\"}], \"currentvalue\": {\"prefix\": \"Year: \"}, \"pad\": {\"t\": 50}}], \"geo\": {\"showlakes\": true, \"scope\": \"usa\", \"projection\": {\"type\": \"albers usa\"}, \"lakecolor\": \"rgb(255, 255, 255)\"}, \"title\": \"USA Arson Density\"}, {\"linkText\": \"Export to plot.ly\", \"showLink\": true})});</script>"
      ],
      "text/vnd.plotly.v1+html": [
       "<div id=\"340aa1e4-3f28-494e-a1b0-e5da31b9965a\" style=\"height: 525px; width: 100%;\" class=\"plotly-graph-div\"></div><script type=\"text/javascript\">require([\"plotly\"], function(Plotly) { window.PLOTLYENV=window.PLOTLYENV || {};window.PLOTLYENV.BASE_URL=\"https://plot.ly\";Plotly.newPlot(\"340aa1e4-3f28-494e-a1b0-e5da31b9965a\", [{\"autocolorscale\": false, \"name\": \"\", \"colorscale\": [[0.0, \"rgb(242,240,247)\"], [0.2, \"rgb(218,218,235)\"], [0.4, \"rgb(188,189,220)\"], [0.6, \"rgb(158,154,200)\"], [0.8, \"rgb(117,107,177)\"], [1.0, \"rgb(84,39,143)\"]], \"text\": [\"method: Open flame source<br>method: Open flame source<br>\", \"method: Wick or fuse<br>ownership: private<br>ownership: private<br>ownership: private<br>\", \"ownership: private<br>ownership: private<br>\", \"method: Wick or fuse<br>\", \"method: Open flame source<br>method: Open flame source<br>ownership: private<br>\", \"ownership: private<br>\", \"method: Open flame source<br>\", \"method: Open flame source<br>\", \"method: Open flame source<br>ownership: private<br>\", \"method: Open flame source<br>\", \"method: Open flame source<br>method: Open flame source<br>\", \"method: Open flame source<br>ownership: private<br>ownership: private<br>\", \"method: Cigarette and matchbook<br>\", \"method: Open flame source<br>ownership: private<br>\", \"method: Open flame source<br>\", \"nan\", \"method: Open flame source<br>\", \"ownership: private<br>\", \"ownership: private<br>\", \"method: None<br>ownership: private<br>\", \"ownership: private<br>ownership: private<br>ownership: private<br>\", \"method: Open flame source<br>ownership: private<br>ownership: private<br>\", \"method: Open flame source<br>ownership: private<br>\", \"method: Open flame source<br>method: Open flame source<br>ownership: private<br>\", \"method: Open flame source<br>method: Open flame source<br>ownership: private<br>ownership: private<br>ownership: private<br>\", \"ownership: private<br>ownership: private<br>\", \"ownership: private<br>\", \"nan\", \"method: Open flame source<br>ownership: private<br>\", \"method: Open flame source<br>ownership: private<br>\", \"ownership: private<br>\", \"method: Open flame source<br>ownership: private<br>\", \"method: Open flame source<br>ownership: private<br>ownership: private<br>\", \"method: Open flame source<br>ownership: private<br>\", \"method: Wick or fuse<br>method: Wick or fuse<br>method: Wick or fuse<br>ownership: private<br>\", \"method: Wick or fuse<br>method: Wick or fuse<br>ownership: private<br>ownership: private<br>\", \"method: Open flame source<br>ownership: private<br>\", \"nan\", \"method: Open flame source<br>ownership: private<br>\", \"method: Wick or fuse<br>ownership: private<br>\", \"method: Open flame source<br>method: Open flame source<br>ownership: private<br>\", \"method: Open flame source<br>\", \"ownership: private<br>\", \"nan\", \"method: Open flame source<br>method: Open flame source<br>ownership: private<br>\", \"method: Open flame source<br>method: Open flame source<br>method: Open flame source<br>\", \"method: Open flame source<br>ownership: private<br>ownership: private<br>ownership: private<br>\", \"method: None<br>method: None<br>ownership: private<br>\", \"method: None<br>method: None<br>ownership: private<br>ownership: private<br>\", \"ownership: private<br>\", \"method: Open flame source<br>ownership: private<br>\"], \"locations\": [\"WA\", \"DE\", \"WI\", \"WV\", \"HI\", \"FL\", \"AK\", \"NH\", \"NJ\", \"NM\", \"TX\", \"LA\", \"NC\", \"ND\", \"NE\", \"TN\", \"NY\", \"PA\", \"WY\", \"RI\", \"NV\", \"VA\", \"CO\", \"CA\", \"AL\", \"AR\", \"VT\", \"IL\", \"GA\", \"IN\", \"IA\", \"OK\", \"AZ\", \"ID\", \"CT\", \"MD\", \"MA\", \"OH\", \"UT\", \"MO\", \"MN\", \"MI\", \"KS\", \"MT\", \"MS\", \"SC\", \"KY\", \"OR\", \"SD\", \"overall\", \"ME\"], \"colorbar\": {\"title\": \"Arson Density in the USA\"}, \"marker\": {\"line\": {\"color\": \"rgb(255,255,255)\", \"width\": 2}}, \"locationmode\": \"USA-states\", \"z\": [79.2418651001441, 19.11722862427088, 8.751576997270668, 10.138514761515708, 100.6000071857148, 21.44699739648733, 87.9533343137049, 23.619655198602565, 5.793013580186894, 51.05087796369963, 11.378020959645742, 41.12327940661022, 9.19132334897982, 16.752703411917842, 60.76648837458387, 6.702452940441626, 20.319311565439854, 1.7465101069831845, 9.036528838930074, 3.5132063325069387, 100.93247846582632, 26.130170365720208, 17.650453275922146, 23.19993549024866, 22.58869825364914, 10.302090845274575, 3.8348337120231624, 11.143821806006232, 10.306098327385104, 10.539244123562469, 18.45766686566851, 15.799851523954198, 8.787261187057535, 19.033529567537837, 11.03299255817669, 21.97612722242657, 28.322466344473504, 14.168992490173999, 5.657127620475198, 8.55615900845959, 9.377275472154293, 22.092329941961566, 15.218287974089028, 3.129710340260089, 4.342795353006982, 8.801005385438737, 2.41493228529872, 0.13030765898902627, 3.3079033161118168, null, null], \"type\": \"choropleth\", \"uid\": \"646d01c0-d02a-11e8-9abb-784f439698c9\"}, {\"autocolorscale\": false, \"name\": \"\", \"colorscale\": [[0.0, \"rgb(242,240,247)\"], [0.2, \"rgb(218,218,235)\"], [0.4, \"rgb(188,189,220)\"], [0.6, \"rgb(158,154,200)\"], [0.8, \"rgb(117,107,177)\"], [1.0, \"rgb(84,39,143)\"]], \"text\": [\"method: Open flame source<br>ownership: private<br>\", \"method: None<br>ownership: private<br>\", \"method: Cigarette and matchbook<br>ownership: private<br>\", \"method: Open flame source<br>ownership: private<br>\", \"method: Open flame source<br>ownership: private<br>\", \"method: Open flame source<br>ownership: private<br>\", \"method: Open flame source<br>ownership: private<br>\", \"method: Open flame source<br>ownership: private<br>\", \"method: Open flame source<br>ownership: private<br>\", \"method: Open flame source<br>ownership: private<br>\", \"method: Open flame source<br>ownership: private<br>\", \"method: Open flame source<br>ownership: private<br>\", \"method: Open flame source<br>ownership: private<br>\", \"method: Mechanical device<br>ownership: private<br>\", \"method: Wick or fuse<br>ownership: private<br>\", \"method: Open flame source<br>ownership: private<br>\", \"method: Cigarette and matchbook<br>ownership: private<br>\", \"method: Open flame source<br>ownership: private<br>\", \"method: Electronic component<br>ownership: private<br>\", \"method: Open flame source<br>ownership: private<br>\", \"method: Open flame source<br>ownership: private<br>\", \"method: Open flame source<br>ownership: private<br>\", \"method: Open flame source<br>ownership: private<br>\", \"method: Open flame source<br>ownership: private<br>\", \"method: Open flame source<br>ownership: private<br>\", \"method: None<br>ownership: private<br>\", \"method: Open flame source<br>ownership: private<br>\", \"method: Open flame source<br>ownership: private<br>\", \"method: Open flame source<br>ownership: private<br>\", \"method: Wick or fuse<br>ownership: private<br>\", \"method: Open flame source<br>ownership: private<br>\", \"method: Open flame source<br>ownership: private<br>\", \"method: Open flame source<br>ownership: private<br>\", \"method: Wick or fuse<br>ownership: private<br>\", \"method: Open flame source<br>ownership: private<br>\", \"method: Wick or fuse<br>ownership: private<br>\", \"method: Open flame source<br>ownership: private<br>\", \"method: Open flame source<br>ownership: private<br>\", \"method: Mechanical device<br>ownership: private<br>\", \"method: Wick or fuse<br>ownership: private<br>\", \"method: Wick or fuse<br>ownership: private<br>\", \"method: Open flame source<br>ownership: private<br>\", \"method: Open flame source<br>ownership: private<br>\", \"method: Open flame source<br>ownership: private<br>\", \"method: Chemical component<br>ownership: private<br>\", \"method: Open flame source<br>ownership: private<br>\", \"method: Open flame source<br>ownership: private<br>\", \"method: Open flame source<br>ownership: private<br>\", \"method: Open flame source<br>ownership: private<br>\", \"method: Open flame source<br>ownership: private<br>\", \"method: Open flame source<br>ownership: private<br>\"], \"locations\": [\"WA\", \"DE\", \"WI\", \"WV\", \"HI\", \"FL\", \"WY\", \"NH\", \"NJ\", \"NM\", \"TX\", \"LA\", \"NC\", \"ND\", \"NE\", \"TN\", \"NY\", \"PA\", \"RI\", \"NV\", \"VA\", \"CO\", \"AK\", \"AL\", \"AR\", \"VT\", \"IL\", \"GA\", \"IN\", \"IA\", \"OK\", \"AZ\", \"CA\", \"ID\", \"CT\", \"MD\", \"MA\", \"OH\", \"UT\", \"MO\", \"MN\", \"MI\", \"KS\", \"MT\", \"MS\", \"SC\", \"KY\", \"OR\", \"SD\", \"overall\", \"ME\"], \"colorbar\": {\"title\": \"Arson Density in the USA\"}, \"marker\": {\"line\": {\"color\": \"rgb(255,255,255)\", \"width\": 2}}, \"locationmode\": \"USA-states\", \"z\": [70.35645192249784, 27.342082799829278, 6.238573963917846, 10.354227841547957, 100.96662528770355, 28.92320208022079, 10.985584078699306, 37.44209007366902, 8.269242914462861, 59.28489053848989, 9.508095509453266, 49.79239234732955, 11.238481731252598, 17.04921143690754, 53.44390794095596, 8.527534022815402, 19.226820048353055, 16.418768438170748, 15.097292077529817, 109.81216865343568, 30.391743215065134, 22.42459383652511, 95.37614755992522, 54.141829024241375, 10.849710292199468, 4.953326878029918, 11.657792623054737, 13.528684517666361, 13.944467736584844, 21.96560710479201, 18.193768421523014, 7.601058966424546, 21.51753832074795, 19.415473304679065, 16.47965977044113, 36.41955674911573, 84.28946765815385, 15.32157720038387, 4.9364744204146636, 11.625034754183886, 7.381309206996954, 23.25668280324735, 16.862562766691752, 4.240252719062056, 4.881436637100871, 17.127446754995972, 3.9328897217722014, 15.715103674076568, 3.430418253745588, null, null], \"type\": \"choropleth\", \"uid\": \"646d03b5-d02a-11e8-8f57-784f439698c9\"}, {\"autocolorscale\": false, \"name\": \"\", \"colorscale\": [[0.0, \"rgb(242,240,247)\"], [0.2, \"rgb(218,218,235)\"], [0.4, \"rgb(188,189,220)\"], [0.6, \"rgb(158,154,200)\"], [0.8, \"rgb(117,107,177)\"], [1.0, \"rgb(84,39,143)\"]], \"text\": [], \"locations\": [], \"colorbar\": {\"title\": \"Arson Density in the USA\"}, \"marker\": {\"line\": {\"color\": \"rgb(255,255,255)\", \"width\": 2}}, \"locationmode\": \"USA-states\", \"z\": [], \"type\": \"choropleth\", \"uid\": \"646d04e1-d02a-11e8-bf87-784f439698c9\"}, {\"autocolorscale\": false, \"name\": \"\", \"colorscale\": [[0.0, \"rgb(242,240,247)\"], [0.2, \"rgb(218,218,235)\"], [0.4, \"rgb(188,189,220)\"], [0.6, \"rgb(158,154,200)\"], [0.8, \"rgb(117,107,177)\"], [1.0, \"rgb(84,39,143)\"]], \"text\": [], \"locations\": [], \"colorbar\": {\"title\": \"Arson Density in the USA\"}, \"marker\": {\"line\": {\"color\": \"rgb(255,255,255)\", \"width\": 2}}, \"locationmode\": \"USA-states\", \"z\": [], \"type\": \"choropleth\", \"uid\": \"646d05cf-d02a-11e8-ba77-784f439698c9\"}, {\"autocolorscale\": false, \"name\": \"\", \"colorscale\": [[0.0, \"rgb(242,240,247)\"], [0.2, \"rgb(218,218,235)\"], [0.4, \"rgb(188,189,220)\"], [0.6, \"rgb(158,154,200)\"], [0.8, \"rgb(117,107,177)\"], [1.0, \"rgb(84,39,143)\"]], \"text\": [], \"locations\": [], \"colorbar\": {\"title\": \"Arson Density in the USA\"}, \"marker\": {\"line\": {\"color\": \"rgb(255,255,255)\", \"width\": 2}}, \"locationmode\": \"USA-states\", \"z\": [], \"type\": \"choropleth\", \"uid\": \"646d06c0-d02a-11e8-bf8b-784f439698c9\"}, {\"autocolorscale\": false, \"name\": \"\", \"colorscale\": [[0.0, \"rgb(242,240,247)\"], [0.2, \"rgb(218,218,235)\"], [0.4, \"rgb(188,189,220)\"], [0.6, \"rgb(158,154,200)\"], [0.8, \"rgb(117,107,177)\"], [1.0, \"rgb(84,39,143)\"]], \"text\": [], \"locations\": [], \"colorbar\": {\"title\": \"Arson Density in the USA\"}, \"marker\": {\"line\": {\"color\": \"rgb(255,255,255)\", \"width\": 2}}, \"locationmode\": \"USA-states\", \"z\": [], \"type\": \"choropleth\", \"uid\": \"646d079c-d02a-11e8-a6a4-784f439698c9\"}], {\"sliders\": [{\"active\": 6, \"steps\": [{\"args\": [\"visible\", [true, false, false, false, false, false]], \"method\": \"restyle\", \"label\": \"2009\"}, {\"args\": [\"visible\", [false, true, false, false, false, false]], \"method\": \"restyle\", \"label\": \"2010\"}, {\"args\": [\"visible\", [false, false, true, false, false, false]], \"method\": \"restyle\", \"label\": \"2011\"}, {\"args\": [\"visible\", [false, false, false, true, false, false]], \"method\": \"restyle\", \"label\": \"2012\"}, {\"args\": [\"visible\", [false, false, false, false, true, false]], \"method\": \"restyle\", \"label\": \"2013\"}, {\"args\": [\"visible\", [false, false, false, false, false, true]], \"method\": \"restyle\", \"label\": \"2014\"}], \"currentvalue\": {\"prefix\": \"Year: \"}, \"pad\": {\"t\": 50}}], \"geo\": {\"showlakes\": true, \"scope\": \"usa\", \"projection\": {\"type\": \"albers usa\"}, \"lakecolor\": \"rgb(255, 255, 255)\"}, \"title\": \"USA Arson Density\"}, {\"linkText\": \"Export to plot.ly\", \"showLink\": true})});</script>"
      ]
     },
     "metadata": {},
     "output_type": "display_data"
    }
   ],
   "source": [
    "p.offline.iplot(fig, filename='d3-cloropleth-map')"
   ]
  },
  {
   "cell_type": "code",
   "execution_count": null,
   "metadata": {},
   "outputs": [],
   "source": []
  }
 ],
 "metadata": {
  "kernelspec": {
   "display_name": "Python 2",
   "language": "python",
   "name": "python2"
  },
  "language_info": {
   "codemirror_mode": {
    "name": "ipython",
    "version": 2
   },
   "file_extension": ".py",
   "mimetype": "text/x-python",
   "name": "python",
   "nbconvert_exporter": "python",
   "pygments_lexer": "ipython2",
   "version": "2.7.10"
  }
 },
 "nbformat": 4,
 "nbformat_minor": 2
}
