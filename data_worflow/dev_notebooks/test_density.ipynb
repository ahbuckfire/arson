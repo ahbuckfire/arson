{
 "cells": [
  {
   "cell_type": "code",
   "execution_count": 120,
   "metadata": {},
   "outputs": [],
   "source": [
    "import elastic\n",
    "elastic.es.indices.delete(index='arson_facts', ignore=[400, 404])\n",
    "elastic.create_index()"
   ]
  },
  {
   "cell_type": "code",
   "execution_count": 121,
   "metadata": {},
   "outputs": [],
   "source": [
    "import collections\n",
    "import csv\n",
    "import operator\n",
    "import os\n",
    "import sys\n",
    "\n",
    "sys.path.append('/Users/abuckfire/side-projects/arson')\n",
    "import static_data.fire_codes.lookup_tables as codes\n",
    "import elastic"
   ]
  },
  {
   "cell_type": "code",
   "execution_count": 122,
   "metadata": {},
   "outputs": [],
   "source": [
    "COUNT = \"count\"\n",
    "POP_STATE = \"NAME\"\n",
    "STATE = \"state\"\n",
    "POPULATION_FIELD = \"POPESTIMATE\"\n",
    "POPULATION = \"population\"\n",
    "YEARS_AVAILABLE = map(str, range(2009, 2015))\n",
    "FILE_PREFIX = \"nfirs_arson_\"\n",
    "DENSITY = \"pop_density\"\n",
    "YEAR = \"year\"\n",
    "FIELDS = [STATE, COUNT, POPULATION, YEAR, DENSITY]"
   ]
  },
  {
   "cell_type": "code",
   "execution_count": 130,
   "metadata": {},
   "outputs": [],
   "source": [
    "STATES = {\"AK\": \"Alaska\", \"AL\": \"Alabama\", \"AZ\": \"Arizona\", \"AR\": \"Arkansas\", \"CA\": \"California\", \"CO\": \"Colorado\", \"CT\": \"Connecticut\", \"DE\": \"Delaware\", \"FL\": \"Florida\", \"GA\": \"Georgia\", \"HI\": \"Hawaii\", \"ID\": \"Idaho\", \"IL\": \"Illinois\", \"IN\": \"Indiana\", \"IA\": \"Iowa\", \"KS\": \"Kansas\", \"KY\": \"Kentucky\", \"LA\": \"Louisiana\", \"ME\": \"Maine\", \"MD\": \"Maryland\", \"MA\": \"Maine\", \"MI\": \"Michigan\", \"MN\": \"Minnesota\", \"MS\": \"Mississippi\", \"MO\": \"Missouri\", \"MT\": \"Montana\", \"NE\": \"Nebraska\", \"NV\": \"Nevada\", \"NH\": \"New Hampshire\", \"NJ\": \"New Jersey\", \"NM\": \"New Mexico\", \"NY\": \"New York\", \"NC\": \"North Carolina\", \"ND\": \"North Dakota\", \"OH\": \"Ohio\", \"OK\": \"Oklahoma\", \"OR\": \"Oregon\", \"PA\": \"Pennsylvania\", \"RI\": \"Rhode Island\", \"SC\": \"South Carolina\", \"SD\": \"South Dakota\", \"TN\": \"Tennessee\", \"TX\": \"Texas\", \"UT\": \"Utah\", \"VT\": \"Vermont\", \"VA\": \"Virginia\", \"WA\": \"Washington\", \"WV\": \"West Virginia\", \"WI\": \"Wisconsin\", \"WY\": \"Wyoming\"}"
   ]
  },
  {
   "cell_type": "code",
   "execution_count": 123,
   "metadata": {},
   "outputs": [],
   "source": [
    "def add_to_index(df, fields, index, doc_type):\n",
    "    densities = df.collect()\n",
    "    for row in densities:\n",
    "        elastic.es.index(\n",
    "            index=index,\n",
    "            doc_type=doc_type,\n",
    "            body=dict(zip(fields, [row[field] for field in fields]))\n",
    "        )\n",
    "\n"
   ]
  },
  {
   "cell_type": "code",
   "execution_count": 127,
   "metadata": {},
   "outputs": [],
   "source": [
    "def calculate_arson_density(population_df, year, state_rename_udf):\n",
    "    arson_df = spark.read.csv(os.path.join(ARSON_PATH, FILE_PREFIX + year + \".csv\"), header=True)\\\n",
    "                .select([STATE, \"fdid\"])\\\n",
    "                .groupBy(STATE).count()\n",
    "\n",
    "    y1 = year if year != \"2009\" else \"2010\" #adjusting for lack of 2009 population data\n",
    "    population_for_year = population_df.select(POP_STATE, POPULATION_FIELD + y1)\\\n",
    "                                       .withColumnRenamed(POP_STATE, STATE)\\\n",
    "                                       .withColumnRenamed(POPULATION_FIELD + y1, POPULATION)\n",
    "\n",
    "    joined_data = arson_df.withColumn(STATE, state_rename_udf(arson_df[STATE]))\\\n",
    "                          .join(population_for_year, STATE)\\\n",
    "                          .withColumn(\"year\", functions.lit(year))\n",
    "    \n",
    "    return joined_data.withColumn(DENSITY, joined_data[COUNT] * 100000 / joined_data[POPULATION])"
   ]
  },
  {
   "cell_type": "code",
   "execution_count": 129,
   "metadata": {},
   "outputs": [],
   "source": [
    "def add_density_to_elastic():\n",
    "    population_df = spark.read.csv(POPULATION_PATH, header=True)\n",
    "    state_rename_udf = functions.udf(lambda x: STATES[x.strip()] if STATES.get(x) else 0, \"string\")\n",
    "\n",
    "    for year in YEARS_AVAILABLE:\n",
    "        densities = calculate_arson_density(population_df, year, state_rename_udf)\n",
    "        add_to_index(densities, FIELDS, \"arson_facts\", \"arson_density\")\n"
   ]
  },
  {
   "cell_type": "code",
   "execution_count": 131,
   "metadata": {},
   "outputs": [],
   "source": [
    "add_density_to_elastic()"
   ]
  },
  {
   "cell_type": "code",
   "execution_count": null,
   "metadata": {},
   "outputs": [],
   "source": []
  }
 ],
 "metadata": {
  "kernelspec": {
   "display_name": "Python 2",
   "language": "python",
   "name": "python2"
  }
 },
 "nbformat": 4,
 "nbformat_minor": 2
}
