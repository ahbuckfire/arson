{
 "cells": [
  {
   "cell_type": "markdown",
   "metadata": {},
   "source": [
    "## Setting up Environment\n",
    "Set up environment for querying"
   ]
  },
  {
   "cell_type": "markdown",
   "metadata": {},
   "source": [
    "### 1. Importing packages"
   ]
  },
  {
   "cell_type": "code",
   "execution_count": 1,
   "metadata": {},
   "outputs": [],
   "source": [
    "import collections\n",
    "import csv\n",
    "import operator\n",
    "import os\n",
    "import sys\n",
    "\n",
    "from pyspark.sql import SQLContext\n",
    "from pyspark.sql import SparkSession\n",
    "from pyspark.sql import functions\n"
   ]
  },
  {
   "cell_type": "markdown",
   "metadata": {},
   "source": [
    "### 2. Setting python path for data and setting data paths"
   ]
  },
  {
   "cell_type": "code",
   "execution_count": 2,
   "metadata": {},
   "outputs": [],
   "source": [
    "sys.path.append('/Users/abuckfire/side-projects/arson')\n",
    "import static_data.fire_codes.lookup_tables as codes"
   ]
  },
  {
   "cell_type": "code",
   "execution_count": 3,
   "metadata": {},
   "outputs": [],
   "source": [
    "years_available = map(str, range(2009, 2015))\n",
    "file_prefix = \"nfirs_arson_\"\n",
    "arson_data_path = os.path.join(\"..\", \"static_data\", \"nfirs_arson\")\n",
    "fire_depts_data_path = os.path.join(\"..\", \"static_data\", \"nfirs_fire_depts\")\n",
    "pop_by_zipcode_csv = os.path.join(\"..\", \"static_data\", \"zipcodes\", \"pop_per_zip.csv\")"
   ]
  },
  {
   "cell_type": "markdown",
   "metadata": {},
   "source": [
    "### 3. Initializing Spark Context and reading data in"
   ]
  },
  {
   "cell_type": "code",
   "execution_count": 4,
   "metadata": {},
   "outputs": [],
   "source": [
    "sqlContext = SQLContext(sc)"
   ]
  },
  {
   "cell_type": "code",
   "execution_count": 5,
   "metadata": {},
   "outputs": [],
   "source": [
    "spark = SparkSession.builder.enableHiveSupport().getOrCreate()"
   ]
  },
  {
   "cell_type": "code",
   "execution_count": 6,
   "metadata": {},
   "outputs": [],
   "source": [
    "depts = spark.read.csv(fire_depts_data_path + \"/nfirs_arson_\" + \"2009.csv\", header=True).select([\"state\", \"fdid\", \"zip\"])\n",
    "arson_df = spark.read.csv(arson_data_path + \"/nfirs_arson_\" + \"2009.csv\", header=True)"
   ]
  },
  {
   "cell_type": "code",
   "execution_count": 236,
   "metadata": {},
   "outputs": [],
   "source": [
    "joined_on_zip = arson.join(depts, ['state','fdid'])"
   ]
  },
  {
   "cell_type": "markdown",
   "metadata": {},
   "source": [
    "## Questions"
   ]
  },
  {
   "cell_type": "markdown",
   "metadata": {},
   "source": [
    "### Question 1: What is the most common motivation for starting a fire?"
   ]
  },
  {
   "cell_type": "code",
   "execution_count": 113,
   "metadata": {},
   "outputs": [],
   "source": [
    "df1 = arson_df.groupBy([\"mot_facts1\", \"state\"]).count().withColumnRenamed(\"mot_facts1\", \"motivation\").withColumnRenamed(\"count\", \"count_1\")\n",
    "df2 = arson_df.groupBy([\"mot_facts2\", \"state\"]).count().withColumnRenamed(\"mot_facts2\", \"motivation\").withColumnRenamed(\"count\", \"count_2\")\n",
    "df3 = arson_df.groupBy([\"mot_facts3\", \"state\"]).count().withColumnRenamed(\"mot_facts3\", \"motivation\").withColumnRenamed(\"count\", \"count_3\")\n",
    "\n",
    "motives = df1.join(df2, [\"motivation\", \"state\"], \"outer\").join(df3, [\"motivation\", \"state\"], \"outer\").na.fill(0)"
   ]
  },
  {
   "cell_type": "code",
   "execution_count": 59,
   "metadata": {},
   "outputs": [
    {
     "ename": "NameError",
     "evalue": "name 'motives' is not defined",
     "output_type": "error",
     "traceback": [
      "\u001b[0;31m---------------------------------------------------------------------------\u001b[0m",
      "\u001b[0;31mNameError\u001b[0m                                 Traceback (most recent call last)",
      "\u001b[0;32m<ipython-input-59-fa20d75a120f>\u001b[0m in \u001b[0;36m<module>\u001b[0;34m()\u001b[0m\n\u001b[0;32m----> 1\u001b[0;31m \u001b[0mmotives_per_state\u001b[0m \u001b[0;34m=\u001b[0m \u001b[0mmotives\u001b[0m\u001b[0;34m.\u001b[0m\u001b[0mwithColumn\u001b[0m\u001b[0;34m(\u001b[0m\u001b[0;34m\"count\"\u001b[0m\u001b[0;34m,\u001b[0m \u001b[0msum\u001b[0m\u001b[0;34m(\u001b[0m\u001b[0mmotives\u001b[0m\u001b[0;34m[\u001b[0m\u001b[0mcol\u001b[0m\u001b[0;34m]\u001b[0m \u001b[0;32mfor\u001b[0m \u001b[0mcol\u001b[0m \u001b[0;32min\u001b[0m \u001b[0;34m[\u001b[0m\u001b[0;34m\"count_1\"\u001b[0m\u001b[0;34m,\u001b[0m \u001b[0;34m\"count_2\"\u001b[0m\u001b[0;34m,\u001b[0m \u001b[0;34m\"count_3\"\u001b[0m\u001b[0;34m]\u001b[0m\u001b[0;34m)\u001b[0m\u001b[0;34m)\u001b[0m\u001b[0;34m\u001b[0m\u001b[0m\n\u001b[0m",
      "\u001b[0;31mNameError\u001b[0m: name 'motives' is not defined"
     ]
    }
   ],
   "source": [
    "motives_per_state = motives.withColumn(\"count\", sum(motives[col] for col in [\"count_1\", \"count_2\", \"count_3\"]))"
   ]
  },
  {
   "cell_type": "code",
   "execution_count": 62,
   "metadata": {},
   "outputs": [],
   "source": [
    "COUNT = \"count\"\n",
    "STATE = \"state\"\n",
    "UNKNOWNS = [\"UU\", \"NN\", None]\n",
    "\n",
    "def lookup_code(candidate_list, column, codebook):\n",
    "    candidates = [row for row in candidate_list if row[column] not in UNKNOWNS]\n",
    "    if candidates:\n",
    "        return codebook[max(candidates, key=operator.itemgetter(1))[0]]\n",
    "    return None\n",
    "\n",
    "def build_max_count_dicts(df, column, codebook, state_codes=STATES):\n",
    "    results = collections.defaultdict()\n",
    "    for state in state_codes:\n",
    "        count_list = df[df.state==state].select(column, COUNT).collect()\n",
    "        results[state] = lookup_code(count_list, column, codebook)\n",
    "\n",
    "    overall_res_df = df.groupBy(column).agg(functions.sum(COUNT)).collect()\n",
    "    results[\"overall\"] = lookup_code(overall_res_df, column, codebook)\n",
    "    return results"
   ]
  },
  {
   "cell_type": "code",
   "execution_count": 232,
   "metadata": {},
   "outputs": [],
   "source": [
    "STATES = [\"AK\", \"AL\", \"AZ\", \"AR\", \"CA\", \"CO\", \"CT\", \"DE\", \"FL\", \"GA\", \"HI\", \"ID\", \"IL\", \"IN\", \"IA\", \"KS\", \"KY\", \"LA\", \"ME\", \"MD\", \"MA\", \"MI\", \"MN\", \"MS\", \"MO\", \"MT\", \"NE\", \"NV\", \"NH\", \"NJ\", \"NM\", \"NY\", \"NC\", \"ND\", \"OH\", \"OK\", \"OR\", \"PA\", \"RI\", \"SC\", \"SD\", \"TN\", \"TX\", \"UT\", \"VT\", \"VA\", \"WA\", \"WV\", \"WI\", \"WY\"]"
   ]
  },
  {
   "cell_type": "code",
   "execution_count": 233,
   "metadata": {},
   "outputs": [],
   "source": [
    "def get_motives(df, column=\"motivation\"):\n",
    "    df1 = df.groupBy([\"mot_facts1\", STATE]).count().withColumnRenamed(\"mot_facts1\", column).withColumnRenamed(COUNT, \"count_1\")\n",
    "    df2 = df.groupBy([\"mot_facts2\", STATE]).count().withColumnRenamed(\"mot_facts2\", column).withColumnRenamed(COUNT, \"count_2\")\n",
    "    df3 = df.groupBy([\"mot_facts3\", STATE]).count().withColumnRenamed(\"mot_facts3\", column).withColumnRenamed(COUNT, \"count_3\")\n",
    "\n",
    "    all_motives = df1.join(df2, [column, STATE], \"outer\").join(df3, [column, STATE], \"outer\").na.fill(0)\n",
    "\n",
    "    motives_per_state = all_motives.withColumn(COUNT, sum(motives[col] for col in [\"count_1\", \"count_2\", \"count_3\"]))\n",
    "    return build_max_count_dicts(motives_per_state, column, codes.SUSPECTED_MOTIVATION_FACTORS, STATES)\n"
   ]
  },
  {
   "cell_type": "markdown",
   "metadata": {},
   "source": [
    "### Question 2: What are the most common materials used for starting a fire?"
   ]
  },
  {
   "cell_type": "code",
   "execution_count": 214,
   "metadata": {},
   "outputs": [],
   "source": [
    "container = arson_df.groupBy([\"state\", \"devi_cont\"]).count()\n",
    "spark_type = arson_df.groupBy([\"state\", \"devi_ignit\"]).count()\n",
    "gas_type = arson_df.groupBy([\"state\", \"devi_fuel\"]).count()"
   ]
  },
  {
   "cell_type": "code",
   "execution_count": 56,
   "metadata": {},
   "outputs": [],
   "source": [
    "def get_means(df, column=\"devi_ignit\"):\n",
    "    df1 = df.groupBy([column, STATE]).count()\n",
    "    return build_max_count_dicts(df1, column, codes.IGNITION_DELAY_DEVICE)\n"
   ]
  },
  {
   "cell_type": "code",
   "execution_count": 63,
   "metadata": {},
   "outputs": [
    {
     "data": {
      "text/plain": [
       "defaultdict(None,\n",
       "            {'AK': 'Open flame source',\n",
       "             'AL': 'Open flame source',\n",
       "             'AR': 'Open flame source',\n",
       "             'AZ': 'Open flame source',\n",
       "             'CA': 'Open flame source',\n",
       "             'CO': 'Open flame source',\n",
       "             'CT': 'Wick or fuse',\n",
       "             'DE': 'Wick or fuse',\n",
       "             'FL': 'Open flame source',\n",
       "             'GA': 'Open flame source',\n",
       "             'HI': 'Open flame source',\n",
       "             'IA': 'Wick or fuse',\n",
       "             'ID': 'Open flame source',\n",
       "             'IL': 'Open flame source',\n",
       "             'IN': 'Open flame source',\n",
       "             'KS': 'Open flame source',\n",
       "             'KY': 'Open flame source',\n",
       "             'LA': 'Open flame source',\n",
       "             'MA': 'Open flame source',\n",
       "             'MD': 'Wick or fuse',\n",
       "             'ME': 'Open flame source',\n",
       "             'MI': 'Open flame source',\n",
       "             'MN': 'Open flame source',\n",
       "             'MO': 'Wick or fuse',\n",
       "             'MS': 'Open flame source',\n",
       "             'MT': None,\n",
       "             'NC': 'Cigarette and matchbook',\n",
       "             'ND': 'Open flame source',\n",
       "             'NE': 'Open flame source',\n",
       "             'NH': 'Open flame source',\n",
       "             'NJ': 'Open flame source',\n",
       "             'NM': 'Open flame source',\n",
       "             'NV': 'Open flame source',\n",
       "             'NY': 'Open flame source',\n",
       "             'OH': 'Wick or fuse',\n",
       "             'OK': 'Open flame source',\n",
       "             'OR': None,\n",
       "             'PA': 'Open flame source',\n",
       "             'RI': None,\n",
       "             'SC': 'Open flame source',\n",
       "             'SD': None,\n",
       "             'TN': 'Open flame source',\n",
       "             'TX': 'Open flame source',\n",
       "             'UT': 'Open flame source',\n",
       "             'VA': 'Open flame source',\n",
       "             'VT': None,\n",
       "             'WA': 'Open flame source',\n",
       "             'WI': 'Open flame source',\n",
       "             'WV': 'Wick or fuse',\n",
       "             'WY': 'Electronic component',\n",
       "             'overall': 'Open flame source'})"
      ]
     },
     "execution_count": 63,
     "metadata": {},
     "output_type": "execute_result"
    }
   ],
   "source": [
    "means = get_means(arson_df)\n",
    "means"
   ]
  },
  {
   "cell_type": "markdown",
   "metadata": {},
   "source": [
    "### Question 3: What is the most common type of property burned?"
   ]
  },
  {
   "cell_type": "code",
   "execution_count": 266,
   "metadata": {},
   "outputs": [
    {
     "name": "stdout",
     "output_type": "stream",
     "text": [
      "+----------+-----+\n",
      "|prop_owner|count|\n",
      "+----------+-----+\n",
      "|         7|    2|\n",
      "|         3|  128|\n",
      "|         0|  243|\n",
      "|      null|47203|\n",
      "|         5|   25|\n",
      "|         1| 7757|\n",
      "|         4|   77|\n",
      "|         2|  500|\n",
      "+----------+-----+\n",
      "\n"
     ]
    }
   ],
   "source": [
    "property_ownership = arson_df.groupBy(\"prop_owner\").count()\n",
    "property_ownership.show()"
   ]
  },
  {
   "cell_type": "code",
   "execution_count": 267,
   "metadata": {},
   "outputs": [
    {
     "name": "stdout",
     "output_type": "stream",
     "text": [
      "The primary property type of property affected by arson is: private\n"
     ]
    }
   ],
   "source": [
    "print(\"The primary property type of property affected by arson is: {}\".format(\n",
    "    get_max_value(property_ownership, \"prop_owner\", codes.PROPERTY_OWNERSHIP)))"
   ]
  },
  {
   "cell_type": "code",
   "execution_count": null,
   "metadata": {},
   "outputs": [],
   "source": [
    "def lookup_code_2(candidate, column, codebook):\n",
    "    if candidate or candidate not in UNKNOWNS:\n",
    "        return codebook[max(candidate, key=operator.itemgetter(1))[0]]\n",
    "    return None\n",
    "\n",
    "\n",
    "def build_max_count_dicts_2(df, column, codebook, state_codes=STATES):\n",
    "    results = collections.defaultdict()\n",
    "    for state in state_codes:\n",
    "        count_list = df[df.state==state].select(column, COUNT).collect()\n",
    "        results[state] = lookup_code(count_list, column, codebook)\n",
    "\n",
    "    overall_res = df.groupBy(column).agg(functions.sum(COUNT)).alias(COUNT)\n",
    "    results[\"overall\"] = lookup_code(overall_res, column, codebook)\n",
    "    return results"
   ]
  },
  {
   "cell_type": "code",
   "execution_count": null,
   "metadata": {},
   "outputs": [],
   "source": []
  },
  {
   "cell_type": "markdown",
   "metadata": {},
   "source": [
    "### Question 4: Number of Arsons per Month"
   ]
  },
  {
   "cell_type": "code",
   "execution_count": 64,
   "metadata": {},
   "outputs": [],
   "source": [
    "date = \"inc_date\"\n"
   ]
  },
  {
   "cell_type": "code",
   "execution_count": 65,
   "metadata": {},
   "outputs": [],
   "source": [
    "def parse_date_by_month(date_string):\n",
    "    month_lookup = {\n",
    "        \"1\": \"January\",\n",
    "        \"2\": \"February\",\n",
    "        \"3\": \"March\",\n",
    "        \"4\": \"April\",\n",
    "        \"5\": \"May\",\n",
    "        \"6\": \"June\",\n",
    "        \"7\": \"July\",\n",
    "        \"8\": \"August\",\n",
    "        \"9\": \"September\",\n",
    "        \"10\": \"October\",\n",
    "        \"11\": \"November\",\n",
    "        \"12\": \"December\"\n",
    "    }\n",
    "    return month_lookup[date_string[:2] if date_string[:2] in month_lookup else date_string[0]]\n",
    "\n",
    "parse_date_by_month_udf = functions.udf(parse_date_by_month, \"string\")"
   ]
  },
  {
   "cell_type": "code",
   "execution_count": 66,
   "metadata": {},
   "outputs": [],
   "source": [
    "date_as_month_df = arson_df.withColumn(date, parse_date_by_month_udf(arson_df[date]))\n"
   ]
  },
  {
   "cell_type": "code",
   "execution_count": 74,
   "metadata": {},
   "outputs": [],
   "source": [
    "overall = date_as_month_df.groupBy(date).count().withColumn(\"state\", functions.lit(\"overall\"))"
   ]
  },
  {
   "cell_type": "code",
   "execution_count": 76,
   "metadata": {},
   "outputs": [
    {
     "name": "stdout",
     "output_type": "stream",
     "text": [
      "+---------+-----+-------+\n",
      "| inc_date|count|  state|\n",
      "+---------+-----+-------+\n",
      "|     July| 6197|overall|\n",
      "| November| 5841|overall|\n",
      "| February| 4088|overall|\n",
      "|  January|  325|overall|\n",
      "|    March| 4836|overall|\n",
      "|  October| 5433|overall|\n",
      "|      May| 4797|overall|\n",
      "|   August| 4760|overall|\n",
      "|    April| 4821|overall|\n",
      "|     June| 4883|overall|\n",
      "| December| 5727|overall|\n",
      "|September| 4227|overall|\n",
      "+---------+-----+-------+\n",
      "\n"
     ]
    }
   ],
   "source": [
    "overall.show()"
   ]
  },
  {
   "cell_type": "code",
   "execution_count": 102,
   "metadata": {},
   "outputs": [],
   "source": [
    "def get_arson_per_month(df, column=\"inc_date\"):\n",
    "    parse_date_by_month_udf = functions.udf(parse_date_by_month, \"string\")\n",
    "    date_as_month_df = df.withColumn(column, parse_date_by_month_udf(df[column]))\n",
    "    by_state = date_as_month_df.groupBy([date, STATE]).count()\n",
    "    overall = date_as_month_df.groupBy(date).count().withColumn(\"state\", functions.lit(\"overall\")).select(\"inc_date\", \"state\", \"count\")\n",
    "    return overall.union(by_state)"
   ]
  },
  {
   "cell_type": "code",
   "execution_count": 103,
   "metadata": {},
   "outputs": [],
   "source": [
    "l = get_arson_per_month(arson_df)"
   ]
  },
  {
   "cell_type": "code",
   "execution_count": 104,
   "metadata": {},
   "outputs": [
    {
     "name": "stdout",
     "output_type": "stream",
     "text": [
      "+---------+-------+-----+\n",
      "| inc_date|  state|count|\n",
      "+---------+-------+-----+\n",
      "|     July|overall| 6197|\n",
      "| November|overall| 5841|\n",
      "| February|overall| 4088|\n",
      "|  January|overall|  325|\n",
      "|    March|overall| 4836|\n",
      "|  October|overall| 5433|\n",
      "|      May|overall| 4797|\n",
      "|   August|overall| 4760|\n",
      "|    April|overall| 4821|\n",
      "|     June|overall| 4883|\n",
      "| December|overall| 5727|\n",
      "|September|overall| 4227|\n",
      "|     July|   null|    3|\n",
      "|  January|     CO|    6|\n",
      "| February|     NM|  102|\n",
      "|      May|     NV|  262|\n",
      "| December|     TX|  371|\n",
      "|  January|     MN|    1|\n",
      "| December|     NV|  300|\n",
      "|  October|     ND|   10|\n",
      "+---------+-------+-----+\n",
      "only showing top 20 rows\n",
      "\n"
     ]
    }
   ],
   "source": [
    "l.show()"
   ]
  },
  {
   "cell_type": "code",
   "execution_count": 105,
   "metadata": {},
   "outputs": [],
   "source": [
    "from elasticsearch import Elasticsearch"
   ]
  },
  {
   "cell_type": "code",
   "execution_count": 106,
   "metadata": {},
   "outputs": [],
   "source": [
    "es = Elasticsearch()"
   ]
  },
  {
   "cell_type": "code",
   "execution_count": 108,
   "metadata": {},
   "outputs": [
    {
     "data": {
      "text/plain": [
       "{u'cluster_name': u'elasticsearch',\n",
       " u'cluster_uuid': u'W1tOguHzQxynPoRGAh4rtQ',\n",
       " u'name': u'dX-_z_A',\n",
       " u'tagline': u'You Know, for Search',\n",
       " u'version': {u'build_date': u'2017-03-23T03:31:50.652Z',\n",
       "  u'build_hash': u'3adb13b',\n",
       "  u'build_snapshot': False,\n",
       "  u'lucene_version': u'6.4.1',\n",
       "  u'number': u'5.3.0'}}"
      ]
     },
     "execution_count": 108,
     "metadata": {},
     "output_type": "execute_result"
    }
   ],
   "source": [
    "es.info(pretty=True)"
   ]
  },
  {
   "cell_type": "code",
   "execution_count": 113,
   "metadata": {},
   "outputs": [],
   "source": [
    "def create_index():\n",
    "    index = {\n",
    "        \"settings\": {\n",
    "            \"analysis\": {\n",
    "                \"analyzer\": {\n",
    "                    # for the vector scoring plug-in configuration\n",
    "                    \"payload_analyzer\": {\n",
    "                        \"type\": \"custom\",\n",
    "                        \"tokenizer\": \"whitespace\",\n",
    "                        \"filter\": \"delimited_payload_filter\"\n",
    "                    }\n",
    "                }\n",
    "            }\n",
    "        },\n",
    "        \"mappings\": {\n",
    "            \"motives\": {\n",
    "                \"properties\": {\n",
    "                    \"state\": {\n",
    "                        \"type\": \"string\"\n",
    "                    },\n",
    "                    \"motive\": {\n",
    "                        \"type\": \"string\"\n",
    "                    }\n",
    "                }\n",
    "            },\n",
    "            \"method\": {\n",
    "                \"properties\": {\n",
    "                    \"state\": {\n",
    "                        \"type\": \"string\"\n",
    "                    },\n",
    "                    \"method\": {\n",
    "                        \"type\": \"string\"\n",
    "                    }\n",
    "                }                \n",
    "            },\n",
    "            \"ownership\": {\n",
    "                \"properties\": {\n",
    "                    \"state\": {\n",
    "                        \"type\": \"string\"\n",
    "                    },\n",
    "                    \"ownership\": {\n",
    "                        \"type\": \"string\"\n",
    "                    }\n",
    "                }\n",
    "            },\n",
    "            \"monthly_counts\": {\n",
    "                \"properties\": {\n",
    "                    \"state\": {\n",
    "                        \"type\": \"string\"\n",
    "                    },\n",
    "                    \"month\": {\n",
    "                        \"type\": \"string\"\n",
    "                    },\n",
    "                    \"count\": {\n",
    "                        \"type\": \"integer\"\n",
    "                    }\n",
    "                }\n",
    "            }\n",
    "        }\n",
    "    }\n",
    "    es.indices.create(index=\"arson_facts\", body=index)\n"
   ]
  },
  {
   "cell_type": "code",
   "execution_count": 114,
   "metadata": {},
   "outputs": [],
   "source": [
    "create_index()"
   ]
  },
  {
   "cell_type": "code",
   "execution_count": 116,
   "metadata": {},
   "outputs": [],
   "source": [
    "l.write.format(\"es\").save(\"arson_facts/monthly_counts\")"
   ]
  },
  {
   "cell_type": "code",
   "execution_count": 118,
   "metadata": {},
   "outputs": [
    {
     "name": "stdout",
     "output_type": "stream",
     "text": [
      "ES index count:  612\n",
      "{u'hits': {u'hits': [{u'_score': 1.0, u'_type': u'monthly_counts', u'_id': u'AWZglakeJ9NbRKc0y1jr', u'_source': {u'count': 233, u'state': u'NV', u'inc_date': u'October'}, u'_index': u'arson_facts'}, {u'_score': 1.0, u'_type': u'monthly_counts', u'_id': u'AWZglaknJ9NbRKc0y1jw', u'_source': {u'count': 43, u'state': u'MN', u'inc_date': u'July'}, u'_index': u'arson_facts'}, {u'_score': 1.0, u'_type': u'monthly_counts', u'_id': u'AWZglaknJ9NbRKc0y1jy', u'_source': {u'count': 18, u'state': u'PA', u'inc_date': u'June'}, u'_index': u'arson_facts'}], u'total': 612, u'max_score': 1.0}, u'_shards': {u'successful': 5, u'failed': 0, u'total': 5}, u'took': 29, u'timed_out': False}\n"
     ]
    }
   ],
   "source": [
    "print(\"ES index count:  %d\" % es.count(index=\"arson_facts\", doc_type=\"monthly_counts\")['count'])\n",
    "print(es.search(index=\"arson_facts\", doc_type=\"monthly_counts\", q=\"*\", size=3))\n"
   ]
  },
  {
   "cell_type": "code",
   "execution_count": 143,
   "metadata": {},
   "outputs": [],
   "source": [
    "from pyspark.sql import Row"
   ]
  },
  {
   "cell_type": "code",
   "execution_count": 141,
   "metadata": {},
   "outputs": [],
   "source": [
    "def convert_to_row(d):\n",
    "    return Row(**collections.OrderedDict(sorted(d.items())))\n",
    "\n",
    "def dict_to_df(json, field1, field2):\n",
    "    items = [{field1: key, field2: value} for key, value in json.items()]\n",
    "    return sc.parallelize(items).map(convert_to_row).toDF()\n",
    "\n",
    "def ingest_facts_into_elastic(dataframe, index, doc_type):\n",
    "    dataframe.write.format(\"es\").save(index + \"/\" + doc_type)"
   ]
  },
  {
   "cell_type": "code",
   "execution_count": 142,
   "metadata": {},
   "outputs": [],
   "source": [
    "ingest_facts_into_elastic(dict_to_df(means, \"state\", \"method\"), \"arson_facts\", \"method\")"
   ]
  },
  {
   "cell_type": "code",
   "execution_count": 144,
   "metadata": {},
   "outputs": [
    {
     "name": "stdout",
     "output_type": "stream",
     "text": [
      "{u'hits': {u'hits': [{u'_score': 1.0, u'_type': u'method', u'_id': u'AWZgrnNjJ9NbRKc0y1tF', u'_source': {u'state': u'VT'}, u'_index': u'arson_facts'}, {u'_score': 1.0, u'_type': u'method', u'_id': u'AWZgrnNjJ9NbRKc0y1tI', u'_source': {u'state': u'IN', u'method': u'Open flame source'}, u'_index': u'arson_facts'}, {u'_score': 1.0, u'_type': u'method', u'_id': u'AWZgrnNjJ9NbRKc0y1tM', u'_source': {u'state': u'ID', u'method': u'Open flame source'}, u'_index': u'arson_facts'}], u'total': 51, u'max_score': 1.0}, u'_shards': {u'successful': 5, u'failed': 0, u'total': 5}, u'took': 4, u'timed_out': False}\n"
     ]
    }
   ],
   "source": [
    "print(es.search(index=\"arson_facts\", doc_type=\"method\", q=\"*\", size=3))\n"
   ]
  },
  {
   "cell_type": "code",
   "execution_count": 151,
   "metadata": {},
   "outputs": [
    {
     "data": {
      "text/plain": [
       "{u'_id': u'AWZgtbcZJ9NbRKc0y1t7',\n",
       " u'_index': u'arson_facts',\n",
       " u'_shards': {u'failed': 0, u'successful': 1, u'total': 2},\n",
       " u'_type': u'monthly_counts',\n",
       " u'_version': 1,\n",
       " u'created': True,\n",
       " u'result': u'created'}"
      ]
     },
     "execution_count": 151,
     "metadata": {},
     "output_type": "execute_result"
    }
   ],
   "source": [
    "#ingest_facts_into_elastic(dict_to_df(motives, \"state\", \"motivation\"), \"arson_facts\", \"motive\")\n",
    "#ingest_facts_into_elastic(dict_to_df(means, \"state\", \"method\"), \"arson_facts\", \"method\")\n",
    "#ingest_facts_into_elastic(dict_to_df(ownership, \"state\", \"ownership\"), \"arson_facts\", \"ownership\")\n",
    "#ingest_facts_into_elastic(l, \"arson_facts\", \"monthly_counts\")\n",
    "es.index(index=\"arson_facts\", doc_type=\"monthly_counts\", body={\"state\": \"x\", \"month\": \"october\", \"count\": 10})\n"
   ]
  },
  {
   "cell_type": "code",
   "execution_count": 152,
   "metadata": {},
   "outputs": [
    {
     "data": {
      "text/plain": [
       "{u'_shards': {u'failed': 0, u'successful': 5, u'total': 5},\n",
       " u'hits': {u'hits': [{u'_id': u'AWZgldjCJ9NbRKc0y1ry',\n",
       "    u'_index': u'arson_facts',\n",
       "    u'_score': 3.9400566,\n",
       "    u'_source': {u'count': 5, u'inc_date': u'July', u'state': u'KY'},\n",
       "    u'_type': u'monthly_counts'},\n",
       "   {u'_id': u'AWZglb7pJ9NbRKc0y1nc',\n",
       "    u'_index': u'arson_facts',\n",
       "    u'_score': 3.9288168,\n",
       "    u'_source': {u'count': 5, u'inc_date': u'December', u'state': u'WY'},\n",
       "    u'_type': u'monthly_counts'},\n",
       "   {u'_id': u'AWZgla3IJ9NbRKc0y1kj',\n",
       "    u'_index': u'arson_facts',\n",
       "    u'_score': 2.9635084,\n",
       "    u'_source': {u'count': 5, u'inc_date': u'October', u'state': u'SD'},\n",
       "    u'_type': u'monthly_counts'},\n",
       "   {u'_id': u'AWZglbFiJ9NbRKc0y1lE',\n",
       "    u'_index': u'arson_facts',\n",
       "    u'_score': 2.9635084,\n",
       "    u'_source': {u'count': 5, u'inc_date': u'February', u'state': u'UT'},\n",
       "    u'_type': u'monthly_counts'},\n",
       "   {u'_id': u'AWZgld2fJ9NbRKc0y1sH',\n",
       "    u'_index': u'arson_facts',\n",
       "    u'_score': 2.9635084,\n",
       "    u'_source': {u'count': 5, u'inc_date': u'November', u'state': u'DC'},\n",
       "    u'_type': u'monthly_counts'},\n",
       "   {u'_id': u'AWZgldmBJ9NbRKc0y1r4',\n",
       "    u'_index': u'arson_facts',\n",
       "    u'_score': 2.9635084,\n",
       "    u'_source': {u'count': 5, u'inc_date': u'April', u'state': u'WY'},\n",
       "    u'_type': u'monthly_counts'}],\n",
       "  u'max_score': 3.9400566,\n",
       "  u'total': 6},\n",
       " u'timed_out': False,\n",
       " u'took': 24}"
      ]
     },
     "execution_count": 152,
     "metadata": {},
     "output_type": "execute_result"
    }
   ],
   "source": [
    "es.search(index=\"arson_facts\", doc_type=\"monthly_counts\", q=5)"
   ]
  },
  {
   "cell_type": "code",
   "execution_count": null,
   "metadata": {},
   "outputs": [],
   "source": []
  }
 ],
 "metadata": {
  "kernelspec": {
   "display_name": "Python 2",
   "language": "python",
   "name": "python2"
  },
  "language_info": {
   "codemirror_mode": {
    "name": "ipython",
    "version": 2
   },
   "file_extension": ".py",
   "mimetype": "text/x-python",
   "name": "python",
   "nbconvert_exporter": "python",
   "pygments_lexer": "ipython2",
   "version": "2.7.10"
  }
 },
 "nbformat": 4,
 "nbformat_minor": 2
}
